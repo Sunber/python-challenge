{
 "cells": [
  {
   "cell_type": "code",
   "execution_count": 69,
   "metadata": {},
   "outputs": [
    {
     "name": "stdout",
     "output_type": "stream",
     "text": [
      "86\n",
      "0\n"
     ]
    }
   ],
   "source": [
    "import csv\n",
    "import os\n",
    "\n",
    "\n",
    "\n",
    "total = 0\n",
    "totalAvg = []\n",
    "value = []\n",
    "count = []\n",
    "date = []\n",
    "\n",
    "#filepath = Path(\"Users\\Abhi\\Downloads\\budget_data.csv\")\n",
    "with open ('budget_data.csv',newline = \"\") as csv_file:\n",
    "    readC = csv.reader(csv_file, delimiter = ',')\n",
    "    \n",
    "    csv_header = next(csv_file)\n",
    "    row_count = sum(1 for row in readC)\n",
    "    print(row_count)\n",
    "    \n",
    "    for row in readC:\n",
    "        count +=1\n",
    "        total+= int(row[1])\n",
    "        value.append(int(row[1]))\n",
    "        date.append(row[0])\n",
    "        Totals = list(zip(value, date))\n",
    "        \n",
    "    print(total)\n",
    "    \n",
    "          "
   ]
  },
  {
   "cell_type": "code",
   "execution_count": 61,
   "metadata": {},
   "outputs": [],
   "source": [
    "#for the average\n",
    "for i in range (len(value)-1):\n",
    "    differenceVal = int(value[i+1]-value[i])\n",
    "    Average.append(differenceVal)\n",
    "    \n"
   ]
  },
  {
   "cell_type": "code",
   "execution_count": 15,
   "metadata": {},
   "outputs": [
    {
     "name": "stdout",
     "output_type": "stream",
     "text": [
      "['.ipynb_checkpoints', 'main.py.ipynb']\n"
     ]
    }
   ],
   "source": [
    "import os\n",
    "print(os.listdir('./'))"
   ]
  }
 ],
 "metadata": {
  "kernelspec": {
   "display_name": "Python 3",
   "language": "python",
   "name": "python3"
  },
  "language_info": {
   "codemirror_mode": {
    "name": "ipython",
    "version": 3
   },
   "file_extension": ".py",
   "mimetype": "text/x-python",
   "name": "python",
   "nbconvert_exporter": "python",
   "pygments_lexer": "ipython3",
   "version": "3.6.5"
  }
 },
 "nbformat": 4,
 "nbformat_minor": 2
}
